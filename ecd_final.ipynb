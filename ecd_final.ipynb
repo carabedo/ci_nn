{
 "cells": [
  {
   "cell_type": "code",
   "execution_count": 1,
   "id": "9d7b2f1d",
   "metadata": {},
   "outputs": [],
   "source": [
    "import ecd\n",
    "import numpy as np\n",
    "\n",
    "path='./CondU6SanNicSupCal101'\n",
    "exp = ecd.loader.Exp(path)"
   ]
  },
  {
   "cell_type": "code",
   "execution_count": 2,
   "id": "6baec1e6",
   "metadata": {},
   "outputs": [
    {
     "data": {
      "text/plain": [
       "TUBO_F0C37"
      ]
     },
     "execution_count": 2,
     "metadata": {},
     "output_type": "execute_result"
    }
   ],
   "source": [
    "tubo1=exp.loc(0,37)\n",
    "tubo1"
   ]
  },
  {
   "cell_type": "code",
   "execution_count": 3,
   "id": "a97342bc",
   "metadata": {},
   "outputs": [
    {
     "data": {
      "text/plain": [
       "TUBO_PATRON 003"
      ]
     },
     "execution_count": 3,
     "metadata": {},
     "output_type": "execute_result"
    }
   ],
   "source": [
    "patron1=exp.patron(0)\n",
    "patron1"
   ]
  },
  {
   "cell_type": "code",
   "execution_count": null,
   "id": "e12caa91",
   "metadata": {},
   "outputs": [],
   "source": []
  }
 ],
 "metadata": {
  "kernelspec": {
   "display_name": "Python 3 (ipykernel)",
   "language": "python",
   "name": "python3"
  },
  "language_info": {
   "codemirror_mode": {
    "name": "ipython",
    "version": 3
   },
   "file_extension": ".py",
   "mimetype": "text/x-python",
   "name": "python",
   "nbconvert_exporter": "python",
   "pygments_lexer": "ipython3",
   "version": "3.9.5"
  }
 },
 "nbformat": 4,
 "nbformat_minor": 5
}
